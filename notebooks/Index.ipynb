{
 "cells": [
  {
   "cell_type": "markdown",
   "metadata": {},
   "source": [
    "# pycmap documentation"
   ]
  },
  {
   "cell_type": "markdown",
   "metadata": {},
   "source": [
    "![Book Cover](figures/CMAP.png)\n",
    "*Mohammad Dehghani Ashkezari*\n",
    "\n",
    "*Raphael Hagen*\n",
    "\n",
    "*Mike Denholtz*\n",
    "\n",
    "*Ginger Armbrust*"
   ]
  },
  {
   "cell_type": "markdown",
   "metadata": {},
   "source": [
    "## Table of Contents\n",
    "\n",
    "### [Preface](00.00-Preface.ipynb)\n",
    "\n",
    "### [Installation](00.01-Installation.ipynb)\n",
    "\n",
    "### [1. API: Data Retrieval](01.00-API.ipynb)\n",
    "- [Catalog](01.01-Catalog.ipynb)\n",
    "- [MetaData](01.02-MetaData.ipynb)\n",
    "- [Dataset Columns](01.03-Columns.ipynb)\n",
    "- [Dataset Head](01.04-Head.ipynb)\n",
    "\n",
    "### [2. Visualization](02.00-Viz.ipynb)\n",
    "- [](02.01-.ipynb)\n",
    "\n",
    "### [3. Analysis](03.00-Analysis.ipynb)\n",
    "- [](03.01-.ipynb)\n"
   ]
  },
  {
   "cell_type": "code",
   "execution_count": null,
   "metadata": {},
   "outputs": [],
   "source": []
  }
 ],
 "metadata": {
  "anaconda-cloud": {},
  "kernelspec": {
   "display_name": "Python 3",
   "language": "python",
   "name": "python3"
  },
  "language_info": {
   "codemirror_mode": {
    "name": "ipython",
    "version": 3
   },
   "file_extension": ".py",
   "mimetype": "text/x-python",
   "name": "python",
   "nbconvert_exporter": "python",
   "pygments_lexer": "ipython3",
   "version": "3.7.1"
  }
 },
 "nbformat": 4,
 "nbformat_minor": 1
}
