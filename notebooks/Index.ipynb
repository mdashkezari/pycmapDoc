{
 "cells": [
  {
   "cell_type": "markdown",
   "metadata": {},
   "source": [
    "# pycmap documentation"
   ]
  },
  {
   "cell_type": "markdown",
   "metadata": {},
   "source": [
    "![Book Cover](figures/CMAP.png)\n",
    "*Mohammad Dehghani Ashkezari*\n",
    "\n",
    "*Raphael Hagen*\n",
    "\n",
    "*Mike Denholtz*\n",
    "\n",
    "*Ginger Armbrust*"
   ]
  },
  {
   "cell_type": "markdown",
   "metadata": {},
   "source": [
    "## Table of Contents\n",
    "\n",
    "### [Preface](Preface.ipynb)\n",
    "\n",
    "### [Installation](Installation.ipynb)\n",
    "\n",
    "### [1. API: Data Retrieval](API.ipynb)\n",
    "- [Catalog](Catalog.ipynb)\n",
    "- [MetaData](MetaData.ipynb)\n",
    "- [Dataset Columns](Columns.ipynb)\n",
    "- [Dataset Head](Head.ipynb)\n",
    "- [Variable Unit](Unit.ipynb)\n",
    "- [If Column Exists](HasField.ipynb)\n",
    "- [Is Gridded Product](Grid.ipynb)\n",
    "- [Is Climatology Product](Climatology.ipynb)\n",
    "- [List of Cruises](Cruises.ipynb)\n",
    "- [Cruise Details by Name](CruiseByName.ipynb)\n",
    "- [Cruise Spatio-Temporal Bounds](CruiseBounds.ipynb)\n",
    "- [Cruise Trajectory](CruiseTrajectory.ipynb)\n",
    "\n",
    "### [2. Visualization](02.00-Viz.ipynb)\n",
    "- [](02.01-.ipynb)\n",
    "\n"
   ]
  }
 ],
 "metadata": {
  "anaconda-cloud": {},
  "kernelspec": {
   "display_name": "Python 3",
   "language": "python",
   "name": "python3"
  },
  "language_info": {
   "codemirror_mode": {
    "name": "ipython",
    "version": 3
   },
   "file_extension": ".py",
   "mimetype": "text/x-python",
   "name": "python",
   "nbconvert_exporter": "python",
   "pygments_lexer": "ipython3",
   "version": "3.7.1"
  }
 },
 "nbformat": 4,
 "nbformat_minor": 1
}
