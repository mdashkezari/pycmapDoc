{
 "cells": [
  {
   "cell_type": "code",
   "execution_count": null,
   "metadata": {},
   "outputs": [],
   "source": [
    "# def __init__(self,\n",
    "#              token=None,\n",
    "#              baseURL=None,\n",
    "#              headers=None,\n",
    "#              vizEngine=None,\n",
    "#              exportDir=None,\n",
    "#              exportFormat=None,\n",
    "#              figureDir=None,\n",
    "#              ):\n",
    "#     \"\"\"\n",
    "#     :param str token: access token to make client requests.\n",
    "#     :param str baseURL: root endpoint of Simons CMAP API.\n",
    "#     :param dict headers: additional headers to add to requests.\n",
    "#     :param str vizEngine: data visualization library used to render the graphs.\n",
    "#     :param str exportDir: path to local directory where the exported data are stored.\n",
    "#     :param str exportFormat: file format of the exported files.\n",
    "#     \"\"\""
   ]
  },
  {
   "cell_type": "code",
   "execution_count": 1,
   "metadata": {},
   "outputs": [
    {
     "data": {
      "text/plain": [
       "'0.0.24'"
      ]
     },
     "execution_count": 1,
     "metadata": {},
     "output_type": "execute_result"
    }
   ],
   "source": [
    "import pycmap\n",
    "api = pycmap.API(token='19e91d80-ae64-12e9-8f77-f3e8f5c1f730', vizEngine='plotly')\n",
    "pycmap.__version__"
   ]
  },
  {
   "cell_type": "markdown",
   "metadata": {},
   "source": [
    "# catalog"
   ]
  },
  {
   "cell_type": "code",
   "execution_count": null,
   "metadata": {},
   "outputs": [],
   "source": [
    "api.get_catalog()"
   ]
  },
  {
   "cell_type": "markdown",
   "metadata": {},
   "source": [
    "# metadata"
   ]
  },
  {
   "cell_type": "code",
   "execution_count": 2,
   "metadata": {},
   "outputs": [
    {
     "data": {
      "text/html": [
       "<div>\n",
       "<style scoped>\n",
       "    .dataframe tbody tr th:only-of-type {\n",
       "        vertical-align: middle;\n",
       "    }\n",
       "\n",
       "    .dataframe tbody tr th {\n",
       "        vertical-align: top;\n",
       "    }\n",
       "\n",
       "    .dataframe thead th {\n",
       "        text-align: right;\n",
       "    }\n",
       "</style>\n",
       "<table border=\"1\" class=\"dataframe\">\n",
       "  <thead>\n",
       "    <tr style=\"text-align: right;\">\n",
       "      <th></th>\n",
       "      <th>Variable</th>\n",
       "      <th>Long Name</th>\n",
       "      <th>Unit</th>\n",
       "      <th>Make</th>\n",
       "      <th>Sensor</th>\n",
       "      <th>Process Level</th>\n",
       "      <th>Study Domain</th>\n",
       "      <th>Temporal Resolution</th>\n",
       "      <th>Spatial Resolution</th>\n",
       "      <th>Comment</th>\n",
       "      <th>Dataset Name</th>\n",
       "      <th>Data Source</th>\n",
       "      <th>Distributor</th>\n",
       "      <th>Dataset Description</th>\n",
       "      <th>Dataset_ID</th>\n",
       "      <th>ID</th>\n",
       "      <th>Table_Name</th>\n",
       "      <th>Keywords</th>\n",
       "      <th>Reference</th>\n",
       "    </tr>\n",
       "  </thead>\n",
       "  <tbody>\n",
       "    <tr>\n",
       "      <th>0</th>\n",
       "      <td>sst</td>\n",
       "      <td>Sea Surface Temperature</td>\n",
       "      <td>C</td>\n",
       "      <td>Observation</td>\n",
       "      <td>Satellite</td>\n",
       "      <td>Near-Real-Time</td>\n",
       "      <td>Physics</td>\n",
       "      <td>Daily</td>\n",
       "      <td>1/4° X 1/4°</td>\n",
       "      <td>Single-sensor Pathfinder 5.0/5.1 AVHRR SSTs us...</td>\n",
       "      <td>Sea Surface Temperature</td>\n",
       "      <td>National Centers for Environmental Information</td>\n",
       "      <td>https://podaac.jpl.nasa.gov/</td>\n",
       "      <td>\"A Group for High Resolution Sea Surface Tempe...</td>\n",
       "      <td>9.0</td>\n",
       "      <td>26.0</td>\n",
       "      <td>tblSST_AVHRR_OI_NRT</td>\n",
       "      <td>daily, nasa, near real time, observation, oi, ...</td>\n",
       "      <td>http://dx.doi.org/10.5067/GHAAO-4BC02</td>\n",
       "    </tr>\n",
       "    <tr>\n",
       "      <th>0</th>\n",
       "      <td>argo_merge_salinity_adj</td>\n",
       "      <td>Adjusted Practical Salinity</td>\n",
       "      <td>psu</td>\n",
       "      <td>Observation</td>\n",
       "      <td>In-Situ</td>\n",
       "      <td>Reprocessed</td>\n",
       "      <td>Physics</td>\n",
       "      <td>Irregular</td>\n",
       "      <td>Irregular</td>\n",
       "      <td>None</td>\n",
       "      <td>Reprocessed Argo Merge (Phys+Bio) Profiles</td>\n",
       "      <td>http://www.argo.ucsd.edu/</td>\n",
       "      <td>ftp://usgodae.org/pub/outgoing/argo</td>\n",
       "      <td>\"Argo is a global array of 3,800 free-drifting...</td>\n",
       "      <td>29.0</td>\n",
       "      <td>408.0</td>\n",
       "      <td>tblArgoMerge_REP</td>\n",
       "      <td>adjusted practical salinity, argo merge, argo_...</td>\n",
       "      <td>These data were collected and made freely avai...</td>\n",
       "    </tr>\n",
       "    <tr>\n",
       "      <th>1</th>\n",
       "      <td>NaN</td>\n",
       "      <td>NaN</td>\n",
       "      <td>NaN</td>\n",
       "      <td>NaN</td>\n",
       "      <td>NaN</td>\n",
       "      <td>NaN</td>\n",
       "      <td>NaN</td>\n",
       "      <td>NaN</td>\n",
       "      <td>NaN</td>\n",
       "      <td>NaN</td>\n",
       "      <td>NaN</td>\n",
       "      <td>NaN</td>\n",
       "      <td>NaN</td>\n",
       "      <td>NaN</td>\n",
       "      <td>NaN</td>\n",
       "      <td>NaN</td>\n",
       "      <td>NaN</td>\n",
       "      <td>NaN</td>\n",
       "      <td>http://doi.org/10.17882/42182</td>\n",
       "    </tr>\n",
       "  </tbody>\n",
       "</table>\n",
       "</div>"
      ],
      "text/plain": [
       "                  Variable                    Long Name Unit         Make  \\\n",
       "0                      sst      Sea Surface Temperature    C  Observation   \n",
       "0  argo_merge_salinity_adj  Adjusted Practical Salinity  psu  Observation   \n",
       "1                      NaN                          NaN  NaN          NaN   \n",
       "\n",
       "      Sensor   Process Level Study Domain Temporal Resolution  \\\n",
       "0  Satellite  Near-Real-Time      Physics               Daily   \n",
       "0    In-Situ     Reprocessed      Physics           Irregular   \n",
       "1        NaN             NaN          NaN                 NaN   \n",
       "\n",
       "  Spatial Resolution                                            Comment  \\\n",
       "0        1/4° X 1/4°  Single-sensor Pathfinder 5.0/5.1 AVHRR SSTs us...   \n",
       "0          Irregular                                               None   \n",
       "1                NaN                                                NaN   \n",
       "\n",
       "                                 Dataset Name  \\\n",
       "0                     Sea Surface Temperature   \n",
       "0  Reprocessed Argo Merge (Phys+Bio) Profiles   \n",
       "1                                         NaN   \n",
       "\n",
       "                                      Data Source  \\\n",
       "0  National Centers for Environmental Information   \n",
       "0                       http://www.argo.ucsd.edu/   \n",
       "1                                             NaN   \n",
       "\n",
       "                           Distributor  \\\n",
       "0         https://podaac.jpl.nasa.gov/   \n",
       "0  ftp://usgodae.org/pub/outgoing/argo   \n",
       "1                                  NaN   \n",
       "\n",
       "                                 Dataset Description  Dataset_ID     ID  \\\n",
       "0  \"A Group for High Resolution Sea Surface Tempe...         9.0   26.0   \n",
       "0  \"Argo is a global array of 3,800 free-drifting...        29.0  408.0   \n",
       "1                                                NaN         NaN    NaN   \n",
       "\n",
       "            Table_Name                                           Keywords  \\\n",
       "0  tblSST_AVHRR_OI_NRT  daily, nasa, near real time, observation, oi, ...   \n",
       "0     tblArgoMerge_REP  adjusted practical salinity, argo merge, argo_...   \n",
       "1                  NaN                                                NaN   \n",
       "\n",
       "                                           Reference  \n",
       "0              http://dx.doi.org/10.5067/GHAAO-4BC02  \n",
       "0  These data were collected and made freely avai...  \n",
       "1                      http://doi.org/10.17882/42182  "
      ]
     },
     "execution_count": 2,
     "metadata": {},
     "output_type": "execute_result"
    }
   ],
   "source": [
    "api.get_metadata(['tblsst_AVHRR_OI_NRT', 'tblArgoMerge_REP'], ['sst', 'argo_merge_salinity_adj'])"
   ]
  },
  {
   "cell_type": "markdown",
   "metadata": {},
   "source": [
    "# dataset head"
   ]
  },
  {
   "cell_type": "code",
   "execution_count": null,
   "metadata": {},
   "outputs": [],
   "source": [
    "api.head('tblFlombaum')\n",
    "\n",
    "api.cruise_by_name('diel')\n",
    "# api.cruise_bounds('meso_scope')\n",
    "api.cruise_trajectory('KM1513')"
   ]
  },
  {
   "cell_type": "markdown",
   "metadata": {},
   "source": [
    "# data set columns"
   ]
  },
  {
   "cell_type": "code",
   "execution_count": null,
   "metadata": {},
   "outputs": [],
   "source": [
    "api.columns('tblAMT13_Chisholm')"
   ]
  },
  {
   "cell_type": "markdown",
   "metadata": {},
   "source": [
    "# cruise list"
   ]
  },
  {
   "cell_type": "code",
   "execution_count": null,
   "metadata": {},
   "outputs": [],
   "source": [
    "api.cruises()"
   ]
  },
  {
   "cell_type": "markdown",
   "metadata": {},
   "source": [
    "# cruise track"
   ]
  },
  {
   "cell_type": "code",
   "execution_count": null,
   "metadata": {
    "scrolled": true
   },
   "outputs": [],
   "source": [
    "api.cruise_trajectory('gradients_')"
   ]
  },
  {
   "cell_type": "markdown",
   "metadata": {},
   "source": [
    "# cruise bounds"
   ]
  },
  {
   "cell_type": "code",
   "execution_count": null,
   "metadata": {},
   "outputs": [],
   "source": [
    "api.cruise_bounds('KOK1606')"
   ]
  },
  {
   "cell_type": "markdown",
   "metadata": {},
   "source": [
    "# custom query"
   ]
  },
  {
   "cell_type": "code",
   "execution_count": null,
   "metadata": {},
   "outputs": [],
   "source": [
    "api.query('select * from tblTemporal_Resolutions')"
   ]
  },
  {
   "cell_type": "markdown",
   "metadata": {},
   "source": [
    "# stored procedure"
   ]
  },
  {
   "cell_type": "code",
   "execution_count": null,
   "metadata": {},
   "outputs": [],
   "source": [
    "\n",
    "api.subset(\n",
    "          spName='uspSpaceTime', \n",
    "          table='tblCHL_REP', \n",
    "          variable='chl', \n",
    "          dt1='2016-04-30', \n",
    "          dt2='2016-04-30', \n",
    "          lat1=10, \n",
    "          lat2=70, \n",
    "          lon1=-180, \n",
    "          lon2=-80, \n",
    "          depth1=0, \n",
    "          depth2=0.5\n",
    "          )\n"
   ]
  },
  {
   "cell_type": "code",
   "execution_count": null,
   "metadata": {},
   "outputs": [],
   "source": [
    "api.time_series(\n",
    "               table='tblCHL_REP', \n",
    "               variable='chl', \n",
    "               dt1='2004-04-30', \n",
    "               dt2='2017-04-30', \n",
    "               lat1=10, \n",
    "               lat2=70, \n",
    "               lon1=-180, \n",
    "               lon2=-80, \n",
    "               depth1=0, \n",
    "               depth2=0.5,\n",
    "               interval='m'  \n",
    "               )\n"
   ]
  },
  {
   "cell_type": "code",
   "execution_count": null,
   "metadata": {
    "scrolled": false
   },
   "outputs": [],
   "source": [
    "api.match(\n",
    "         sourceTable='tblSeaFlow', \n",
    "         sourceVar='synecho_abundance', \n",
    "         targetTables=['tblCHL_REP', 'tblPisces_NRT'], \n",
    "         targetVars=['chl', 'Fe'], \n",
    "         dt1='2016-04-20', \n",
    "         dt2='2016-05-04', \n",
    "         lat1=20, \n",
    "         lat2=40, \n",
    "         lon1=-160, \n",
    "         lon2=-157, \n",
    "         depth1=0, \n",
    "         depth2=5, \n",
    "         temporalTolerance=4, \n",
    "         latTolerance=0.5, \n",
    "         lonTolerance=0.5, \n",
    "         depthTolerance=5\n",
    "         )"
   ]
  },
  {
   "cell_type": "code",
   "execution_count": null,
   "metadata": {},
   "outputs": [],
   "source": [
    "df = api.match(\n",
    "         sourceTable='tblCobalamin', \n",
    "         sourceVar='Me_PseudoCobalamin_Particulate_pM',\n",
    "         targetTables=['tblDarwin_Phytoplankton', 'tblDarwin_Nutrient_Climatology'],\n",
    "         targetVars=['picoprokaryote', 'NH4_darwin_clim'],\n",
    "         dt1='2013-08-11', \n",
    "         dt2='2013-09-05', \n",
    "         lat1=22.5, \n",
    "         lat2=50, \n",
    "         lon1=-159, \n",
    "         lon2=-128, \n",
    "         depth1=0, \n",
    "         depth2=300, \n",
    "         temporalTolerance=[2, 0],\n",
    "         latTolerance=[0.25, 0.5],\n",
    "         lonTolerance=[0.25, 0.5],\n",
    "         depthTolerance=[5, 5]\n",
    "         )\n",
    "\n",
    "\n"
   ]
  },
  {
   "cell_type": "code",
   "execution_count": null,
   "metadata": {},
   "outputs": [],
   "source": [
    "%matplotlib inline\n",
    "import matplotlib.pyplot as plt\n",
    "\n",
    "plt.plot(df.NH4_darwin_clim, df.Me_PseudoCobalamin_Particulate_pM, '.')\n",
    "plt.ylabel('Me_PseudoCobalamin_Particulate_pM' + api.get_unit('tblCobalamin', 'Me_PseudoCobalamin_Particulate_pM'))\n",
    "plt.xlabel('NH4_darwin_clim' + api.get_unit('tblDarwin_Nutrient_Climatology', 'NH4_darwin_clim'))\n",
    "\n",
    "# api.cruise_bounds('AMT13')"
   ]
  },
  {
   "cell_type": "code",
   "execution_count": null,
   "metadata": {},
   "outputs": [],
   "source": [
    "%matplotlib inline\n",
    "import matplotlib.pyplot as plt\n",
    "\n",
    "plt.plot(df.picoprokaryote, df.Me_PseudoCobalamin_Particulate_pM, '.')\n",
    "plt.ylabel('Me_PseudoCobalamin_Particulate_pM' + api.get_unit('tblCobalamin', 'Me_PseudoCobalamin_Particulate_pM'))\n",
    "plt.xlabel('picoprokaryote' + api.get_unit('tblDarwin_Phytoplankton', 'picoprokaryote'))\n",
    "plt.show()"
   ]
  },
  {
   "cell_type": "markdown",
   "metadata": {},
   "source": [
    "# along cruise track"
   ]
  },
  {
   "cell_type": "code",
   "execution_count": null,
   "metadata": {
    "scrolled": false
   },
   "outputs": [],
   "source": [
    "\n",
    "# along = api.along_track(\n",
    "#                         cruise='KOK1606', \n",
    "#                         tables=['tblSeaFlow', 'tblSSS_NRT', 'tblCHL_REP'], \n",
    "#                         variables=['synecho_abundance', 'sss', 'chl'], \n",
    "#                         temporalTolerance=[1, 1, 4], \n",
    "#                         latTolerance=[0.1, 0.25, 0.25], \n",
    "#                         lonTolerance=[0.1, 0.25, 0.25], \n",
    "#                         depthTolerance=5\n",
    "#                         )\n",
    "\n",
    "\n",
    "# along = api.along_track(\n",
    "#                         cruise='KOK1606', \n",
    "#                         tables=['tblSeaFlow', 'tblSeaFlow'], \n",
    "#                         variables=['synecho_abundance', 'picoeuk_abundance'], \n",
    "#                         temporalTolerance=[1, 1],\n",
    "#                         depth1=0,\n",
    "#                         depth2=5,\n",
    "#                         latTolerance=[ 0.25, 0.25], \n",
    "#                         lonTolerance=[0.25, 0.25], \n",
    "#                         depthTolerance=5\n",
    "#                         )\n",
    "\n",
    "\n",
    "\n",
    "\n",
    "\n",
    "df = api.along_track(\n",
    "         cruise='meso_scope', \n",
    "         targetTables=['tblSeaFlow', 'tblPisces_NRT'],\n",
    "         targetVars=['synecho_abundance', 'NO3'],\n",
    "         depth1=0, \n",
    "         depth2=5, \n",
    "         temporalTolerance=[0, 4],\n",
    "         latTolerance=[0, 0.25],\n",
    "         lonTolerance=[0, 0.25],\n",
    "         depthTolerance=[5, 5]\n",
    "         )\n",
    "\n",
    "\n",
    "%matplotlib inline\n",
    "import matplotlib.pyplot as plt\n",
    "\n",
    "plt.plot(df['NO3'], df['synecho_abundance'], '.')\n",
    "plt.ylabel('synecho_abundance' + api.get_unit('tblSeaFlow', 'synecho_abundance'))\n",
    "plt.xlabel('NO3' + api.get_unit('tblPisces_NRT', 'NO3'))"
   ]
  },
  {
   "cell_type": "code",
   "execution_count": null,
   "metadata": {
    "scrolled": false
   },
   "outputs": [],
   "source": [
    "api.cruises()"
   ]
  },
  {
   "cell_type": "code",
   "execution_count": null,
   "metadata": {},
   "outputs": [],
   "source": [
    "%matplotlib inline\n",
    "import matplotlib.pyplot as plt\n",
    "\n",
    "plt.plot(along.lat, along.synecho_abundance)"
   ]
  },
  {
   "cell_type": "code",
   "execution_count": null,
   "metadata": {
    "scrolled": true
   },
   "outputs": [],
   "source": [
    "along = api.along_track(\n",
    "                        cruise='Gradients_2', \n",
    "                        tables=['tblSSS_NRT'], \n",
    "                        variables=['sss'], \n",
    "    depth1=0,\n",
    "    depth2=5,\n",
    "                        temporalTolerance=[1], \n",
    "                        latTolerance=[  0.25], \n",
    "                        lonTolerance=[0.25], \n",
    "                        depthTolerance=5\n",
    "                        )\n",
    "\n",
    "\n",
    "along"
   ]
  },
  {
   "cell_type": "markdown",
   "metadata": {},
   "source": [
    "<br>\n",
    "<br>\n",
    "<br>\n",
    "<br>\n",
    "<br>\n",
    "<br>\n",
    "<h1> Visualization </h1>\n",
    "<br>\n",
    "<br>\n",
    "<br>\n",
    "<br>\n",
    "<br>\n",
    "<br>\n"
   ]
  },
  {
   "cell_type": "markdown",
   "metadata": {},
   "source": [
    "# histogram"
   ]
  },
  {
   "cell_type": "code",
   "execution_count": null,
   "metadata": {},
   "outputs": [],
   "source": [
    "\n",
    "from pycmap.viz import plot_hist\n",
    "\n",
    "go = plot_hist(\n",
    "              tables=['tblArgoMerge_REP'], \n",
    "              variables=['argo_merge_salinity_adj'], \n",
    "              dt1='2016-04-30', \n",
    "              dt2='2016-06-30', \n",
    "              lat1=10, \n",
    "              lat2=70, \n",
    "              lon1=-180, \n",
    "              lon2=-80, \n",
    "              depth1=0, \n",
    "              depth2=100, \n",
    "              exportDataFlag=False,\n",
    "              show=True  \n",
    "              )"
   ]
  },
  {
   "cell_type": "code",
   "execution_count": null,
   "metadata": {},
   "outputs": [],
   "source": [
    "go[0].pdf=True\n",
    "go[0].xlabel = 'change xlable'\n",
    "go[0].title='change title'\n",
    "go[0].width = 500\n",
    "go[0].height = 500\n",
    "go[0].render()"
   ]
  },
  {
   "cell_type": "markdown",
   "metadata": {},
   "source": [
    "# time series"
   ]
  },
  {
   "cell_type": "code",
   "execution_count": null,
   "metadata": {},
   "outputs": [],
   "source": [
    "from pycmap.viz import plot_timeseries\n",
    "\n",
    "# go = plot_timeseries(\n",
    "#                     tables=['tblAltimetry_REP'], \n",
    "#                     variables=['adt'], \n",
    "#                     dt1='2016-04-30', \n",
    "#                     dt2='2017-04-30', \n",
    "#                     lat1=30, \n",
    "#                     lat2=32, \n",
    "#                     lon1=-160, \n",
    "#                     lon2=-158, \n",
    "#                     depth1=0, \n",
    "#                     depth2=5, \n",
    "#                     exportDataFlag=False,\n",
    "#                     show=True  \n",
    "#                     )\n",
    "\n",
    "go = plot_timeseries(\n",
    "                    tables=['tblPisces_NRT', 'tblPisces_NRT', 'tblPisces_NRT'], \n",
    "                    variables=['Si', 'NO3', 'Fe'], \n",
    "                    dt1='2012-01-01', \n",
    "                    dt2='2019-05-30', \n",
    "                    lat1=30, \n",
    "                    lat2=35, \n",
    "                    lon1=-160, \n",
    "                    lon2=-158, \n",
    "                    depth1=0, \n",
    "                    depth2=0.5, \n",
    "                    exportDataFlag=False,\n",
    "                    show=True,\n",
    "                    interval='m'\n",
    "                    )\n"
   ]
  },
  {
   "cell_type": "code",
   "execution_count": null,
   "metadata": {},
   "outputs": [],
   "source": [
    "go[0].xlabel = 'change xlabel'\n",
    "go[0].ylabel = 'change ylabel'\n",
    "go[0].title='change title'\n",
    "go[0].width = 500\n",
    "go[0].height = 500\n",
    "go[0].msize= 5\n",
    "go[0].fillAlpha=0.8\n",
    "go[0].render()"
   ]
  },
  {
   "cell_type": "code",
   "execution_count": null,
   "metadata": {},
   "outputs": [],
   "source": [
    "from pycmap.viz import plot_timeseries\n",
    "\n",
    "go = plot_timeseries(\n",
    "                    tables=['tblAltimetry_REP'], \n",
    "                    variables=['adt'], \n",
    "                    dt1='2003-01-01', \n",
    "                    dt2='2018-12-31', \n",
    "                    lat1=30, \n",
    "                    lat2=32, \n",
    "                    lon1=-160, \n",
    "                    lon2=-158, \n",
    "                    depth1=0, \n",
    "                    depth2=5, \n",
    "                    exportDataFlag=False,\n",
    "                    show=True,\n",
    "                    interval='s'    \n",
    "                    )\n",
    "\n",
    "\n",
    "\n",
    "# interval options:\n",
    "# a/y/year/yearly/annual \n",
    "# q/s/season/seasonal/seasonality/quarterly  \n",
    "# m/month/monthly \n",
    "# w/week/weekly\n",
    "# '' (empty string for original temporal resolution)"
   ]
  },
  {
   "cell_type": "markdown",
   "metadata": {},
   "source": [
    "# plot XY"
   ]
  },
  {
   "cell_type": "code",
   "execution_count": null,
   "metadata": {
    "scrolled": true
   },
   "outputs": [],
   "source": [
    "from pycmap.viz import plot_xy\n",
    "go = plot_xy(\n",
    "            xTables=['tblsst_AVHRR_OI_NRT', 'tblPisces_NRT'], \n",
    "            xVars=['sst', 'NO3'],\n",
    "            yTables=['tblAltimetry_REP', 'tblsst_AVHRR_OI_NRT'], \n",
    "            yVars=['adt', 'sst'], \n",
    "            dt1='2016-04-20', \n",
    "            dt2='2016-05-20', \n",
    "            lat1=30, \n",
    "            lat2=32, \n",
    "            lon1=-160, \n",
    "            lon2=-158, \n",
    "            depth1=0, \n",
    "            depth2=0.5, \n",
    "            temporalTolerances=[4, 4],\n",
    "            latTolerances=[0.125, 0.125],\n",
    "            lonTolerances=[0.125, 0.125],\n",
    "            depthTolerances=[0.5, 0.5],\n",
    "            method='spearman', \n",
    "            exportDataFlag=False, \n",
    "            show=True\n",
    "            )\n",
    "\n",
    "# go[0].xlabel = 'change xlabel'\n",
    "# go[0].title='new title'\n",
    "# go[0].width = 300\n",
    "# go[0].height = 300\n",
    "# go[0].msize=10\n",
    "# go[0].fillAlpha=0.7\n",
    "# go[0].render()"
   ]
  },
  {
   "cell_type": "markdown",
   "metadata": {},
   "source": [
    "# cruise track"
   ]
  },
  {
   "cell_type": "code",
   "execution_count": null,
   "metadata": {},
   "outputs": [],
   "source": [
    "import pycmap\n",
    "\n",
    "from pycmap.viz import plot_cruise_track\n",
    "plot_cruise_track('KM1712')\n"
   ]
  },
  {
   "cell_type": "markdown",
   "metadata": {},
   "source": [
    "# basic regional map"
   ]
  },
  {
   "cell_type": "code",
   "execution_count": null,
   "metadata": {
    "scrolled": false
   },
   "outputs": [],
   "source": [
    "from pycmap.viz import plot_map\n",
    "\n",
    "go = plot_map(\n",
    "             tables=['tblsst_AVHRR_OI_NRT', 'tblPisces_NRT', 'tblWOA_Climatology'], \n",
    "             dt1='2016-04-30', \n",
    "             variables=['sst', 'Fe', 'phosphate_WOA_clim'], \n",
    "             dt2='2016-04-30', \n",
    "             lat1=10, \n",
    "             lat2=70, \n",
    "             lon1=-180, \n",
    "             lon2=-80, \n",
    "             depth1=0, \n",
    "             depth2=0.5, \n",
    "             exportDataFlag=False,\n",
    "             show=True\n",
    "             )"
   ]
  },
  {
   "cell_type": "code",
   "execution_count": null,
   "metadata": {},
   "outputs": [],
   "source": [
    "# change colormap: any matplotlib or cmocean colormap works\n",
    "# https://matplotlib.org/3.1.0/tutorials/colors/colormaps.html\n",
    "# https://matplotlib.org/cmocean/\n",
    "# go[1].cmap = cmocean.cm.thermal\n",
    "\n",
    "\n",
    "go[1].cmap = 'PRGn'\n",
    "go[1].vmin = 0\n",
    "go[1].vmax = 5e-5\n",
    "go[1].width = 900\n",
    "go[1].height = 700\n",
    "go[1].render()"
   ]
  },
  {
   "cell_type": "markdown",
   "metadata": {},
   "source": [
    "# conour"
   ]
  },
  {
   "cell_type": "code",
   "execution_count": null,
   "metadata": {
    "scrolled": false
   },
   "outputs": [],
   "source": [
    "\n",
    "from pycmap.viz import plot_map\n",
    "\n",
    "go = plot_map(\n",
    "             tables=['tblsst_AVHRR_OI_NRT'], \n",
    "             variables=['sst'], \n",
    "             dt1='2016-04-30', \n",
    "             dt2='2016-04-30', \n",
    "             lat1=10, \n",
    "             lat2=70, \n",
    "             lon1=-180, \n",
    "             lon2=-80, \n",
    "             depth1=0, \n",
    "             depth2=500, \n",
    "             exportDataFlag=False,\n",
    "             show=True,   \n",
    "             levels=10\n",
    "             )"
   ]
  },
  {
   "cell_type": "markdown",
   "metadata": {},
   "source": [
    "# 3D surface"
   ]
  },
  {
   "cell_type": "code",
   "execution_count": null,
   "metadata": {
    "scrolled": false
   },
   "outputs": [],
   "source": [
    "\n",
    "from pycmap.viz import plot_map\n",
    "\n",
    "go = plot_map(\n",
    "             tables=['tblPisces_NRT', 'tblWOA_Climatology', 'tblAltimetry_REP', 'tblsst_AVHRR_OI_NRT'], \n",
    "             variables=['NO3', 'density_WOA_clim', 'adt', 'sst'], \n",
    "             dt1='2016-04-30', \n",
    "             dt2='2016-04-30', \n",
    "             lat1=-90, \n",
    "             lat2=90, \n",
    "             lon1=-180, \n",
    "             lon2=180, \n",
    "             depth1=0, \n",
    "             depth2=0.5, \n",
    "             exportDataFlag=False, \n",
    "             show=True,   \n",
    "             surface3D=True\n",
    "             )"
   ]
  },
  {
   "cell_type": "markdown",
   "metadata": {},
   "source": [
    "# section"
   ]
  },
  {
   "cell_type": "code",
   "execution_count": null,
   "metadata": {},
   "outputs": [],
   "source": [
    "from pycmap.viz import plot_section\n",
    "\n",
    "go = plot_section(\n",
    "                 tables=['tblPisces_NRT'], \n",
    "                 variables=['NO3'], \n",
    "                 dt1='2016-04-30', \n",
    "                 dt2='2016-04-30', \n",
    "                 lat1=10, \n",
    "                 lat2=60, \n",
    "                 lon1=-160, \n",
    "                 lon2=-158, \n",
    "                 depth1=0, \n",
    "                 depth2=5000, \n",
    "                 exportDataFlag=False, \n",
    "                 show=True\n",
    "                 )"
   ]
  },
  {
   "cell_type": "markdown",
   "metadata": {},
   "source": [
    "# section contour"
   ]
  },
  {
   "cell_type": "code",
   "execution_count": null,
   "metadata": {},
   "outputs": [],
   "source": [
    "from pycmap.viz import plot_section\n",
    "\n",
    "go = plot_section(\n",
    "                 tables=['tblPisces_NRT'], \n",
    "                 variables=['NO3'], \n",
    "                 dt1='2016-04-30', \n",
    "                 dt2='2016-04-30', \n",
    "                 lat1=10, \n",
    "                 lat2=60, \n",
    "                 lon1=-160, \n",
    "                 lon2=-158, \n",
    "                 depth1=0, \n",
    "                 depth2=5000, \n",
    "                 exportDataFlag=False, \n",
    "                 show=True,\n",
    "                 levels=10\n",
    "                 )"
   ]
  },
  {
   "cell_type": "code",
   "execution_count": null,
   "metadata": {},
   "outputs": [],
   "source": [
    "go[0].width = 800\n",
    "go[0].height = 700\n",
    "go[0].vmin = 5\n",
    "go[0].vmax = 40\n",
    "go[0].levels=20\n",
    "go[0].render()\n"
   ]
  },
  {
   "cell_type": "markdown",
   "metadata": {},
   "source": [
    "# Depth Profile"
   ]
  },
  {
   "cell_type": "code",
   "execution_count": null,
   "metadata": {},
   "outputs": [],
   "source": [
    "from pycmap.viz import plot_depth_profile\n",
    "\n",
    "go = api.plot_depth_ptofile(\n",
    "                           tables=['tblArgoMerge_REP'], \n",
    "                           variables=['argo_merge_chl_adj'], \n",
    "                           dt1='2016-04-30', \n",
    "                           dt2='2016-04-30', \n",
    "                           lat1=20, \n",
    "                           lat2=24, \n",
    "                           lon1=-170, \n",
    "                           lon2=-150, \n",
    "                           depth1=0, \n",
    "                           depth2=1500,\n",
    "                           exportDataFlag=False, \n",
    "                           show=True\n",
    "                           ) \n"
   ]
  },
  {
   "cell_type": "code",
   "execution_count": null,
   "metadata": {},
   "outputs": [],
   "source": []
  },
  {
   "cell_type": "markdown",
   "metadata": {},
   "source": [
    "# correlation map"
   ]
  },
  {
   "cell_type": "code",
   "execution_count": null,
   "metadata": {},
   "outputs": [],
   "source": [
    "from pycmap.viz import plot_corr_map\n",
    "\n",
    "# grad1 cruise\n",
    "go = plot_corr_map(\n",
    "                sourceTable='tblSeaFlow', \n",
    "                sourceVar='synecho_abundance',\n",
    "                targetTables=['tblCHL_REP', 'tblPisces_NRT', 'tblPisces_NRT', 'tblSSS_NRT'], \n",
    "                targetVars=['chl', 'Fe', 'NO3', 'SSS'], \n",
    "                dt1='2016-04-20', \n",
    "                dt2='2016-05-04', \n",
    "                lat1=20, \n",
    "                lat2=40, \n",
    "                lon1=-160, \n",
    "                lon2=-157, \n",
    "                depth1=0, \n",
    "                depth2=5, \n",
    "                temporalTolerance=[\n",
    "                                  4, # tblCHL_REP\n",
    "                                  4, # tblPisces_NRT  \n",
    "                                  4, # tblPisces_NRT  \n",
    "                                  1 # tblSSS_NRT  \n",
    "                                  ],\n",
    "                latTolerance=[\n",
    "                             0.25, # tblCHL_REP\n",
    "                             0.5,  # tblPisces_NRT\n",
    "                             0.5,  # tblPisces_NRT\n",
    "                             0.25  # tblSSS_NRT\n",
    "                             ],\n",
    "                lonTolerance=[\n",
    "                             0.25, # tblCHL_REP\n",
    "                             0.5,  # tblPisces_NRT\n",
    "                             0.5,  # tblPisces_NRT\n",
    "                             0.25  # tblSSS_NRT\n",
    "                             ],\n",
    "                depthTolerance=[\n",
    "                               5, # tblCHL_REP\n",
    "                               5, # tblPisces_NRT  \n",
    "                               5, # tblPisces_NRT  \n",
    "                               5 # tblSSS_NRT  \n",
    "                               ],\n",
    "                method='spearman', \n",
    "                exportDataFlag=False, \n",
    "                show=True\n",
    "                )"
   ]
  },
  {
   "cell_type": "code",
   "execution_count": null,
   "metadata": {},
   "outputs": [],
   "source": [
    "from pycmap.viz import plot_corr_map\n",
    "\n",
    "# AMT13 cruise\n",
    "go = plot_corr_map(\n",
    "                sourceTable='tblAMT13_Chisholm', \n",
    "                sourceVar='MIT9313PCR_Chisholm',\n",
    "                targetTables=[\n",
    "                             'tblAMT13_Chisholm', \n",
    "                             'tblAMT13_Chisholm', \n",
    "                             'tblAMT13_Chisholm', \n",
    "                             'tblAMT13_Chisholm', \n",
    "                             'tblAMT13_Chisholm', \n",
    "                             'tblAMT13_Chisholm', \n",
    "                             'tblAMT13_Chisholm', \n",
    "                             'tblAMT13_Chisholm', \n",
    "                             'tblAMT13_Chisholm', \n",
    "                             'tblWOA_Climatology', \n",
    "                             'tblWOA_Climatology', \n",
    "                             'tblWOA_Climatology'\n",
    "                             ], \n",
    "                targetVars=[\n",
    "                           'TQPCR_MED4_MIT9312_MIT9211_NATL2A_SS120_MIT9313_Chisholm', \n",
    "                           'MIT9312PCR_Chisholm', \n",
    "                           'MED4PCR_Chisholm', \n",
    "                           'NATL2APCR_Chisholm', \n",
    "                           'SS120PCR_Chisholm', \n",
    "                           'sbact_Chisholm', \n",
    "                           'temp_C_AMT13', \n",
    "                           'Light_Quanta_m2_sec_AMT13', \n",
    "                           'chlA_AMT13', \n",
    "                           'nitrate_WOA_clim', \n",
    "                           'phosphate_WOA_clim', \n",
    "                           'silicate_WOA_clim'\n",
    "                           ], \n",
    "                dt1='2003-09-14', \n",
    "                dt2='2003-10-13', \n",
    "                lat1=-48, \n",
    "                lat2=48, \n",
    "                lon1=-52, \n",
    "                lon2=-11, \n",
    "                depth1=0, \n",
    "                depth2=240, \n",
    "                temporalTolerance=[\n",
    "                                  0,\n",
    "                                  0,\n",
    "                                  0,\n",
    "                                  0,\n",
    "                                  0,\n",
    "                                  0,\n",
    "                                  0,\n",
    "                                  0,\n",
    "                                  0,\n",
    "                                  0,\n",
    "                                  0,\n",
    "                                  0  \n",
    "                                  ],\n",
    "                latTolerance=[\n",
    "                             0, \n",
    "                             0,  \n",
    "                             0,  \n",
    "                             0,\n",
    "                             0, \n",
    "                             0,  \n",
    "                             0,  \n",
    "                             0,\n",
    "                             0,   \n",
    "                             0.5,   \n",
    "                             0.5,   \n",
    "                             0.5   \n",
    "                             ],\n",
    "                lonTolerance=[\n",
    "                             0, \n",
    "                             0,  \n",
    "                             0,  \n",
    "                             0,\n",
    "                             0,\n",
    "                             0, \n",
    "                             0, \n",
    "                             0,\n",
    "                             0,   \n",
    "                             0.5,   \n",
    "                             0.5,   \n",
    "                             0.5   \n",
    "                             ],\n",
    "                depthTolerance=[\n",
    "                               0,\n",
    "                               0,\n",
    "                               0,\n",
    "                               0,\n",
    "                               0,\n",
    "                               0,\n",
    "                               0,\n",
    "                               0,\n",
    "                               0,\n",
    "                               5, \n",
    "                               5, \n",
    "                               5 \n",
    "                               ],\n",
    "                method='spearman', \n",
    "                exportDataFlag=True, \n",
    "                show=True\n",
    "                )"
   ]
  },
  {
   "cell_type": "code",
   "execution_count": null,
   "metadata": {},
   "outputs": [],
   "source": [
    "# print correlation values\n",
    "# print(go.z)\n",
    "# print(go.x)\n",
    "# print(go.y)\n",
    "import numpy as np\n",
    "\n",
    "go.z = np.abs(go.z)\n",
    "go.cmap = 'Greys'\n",
    "go.width = 1000\n",
    "go.height = 1000\n",
    "go.render()"
   ]
  },
  {
   "cell_type": "markdown",
   "metadata": {},
   "source": [
    "# Correlation Map (along Cruise Track)"
   ]
  },
  {
   "cell_type": "code",
   "execution_count": null,
   "metadata": {},
   "outputs": [],
   "source": [
    "from pycmap.viz import plot_cruise_corr_map\n",
    "\n",
    "go = plot_cruise_corr_map(\n",
    "                    cruise='gradients_1', \n",
    "                    targetTables=['tblSeaFlow', 'tblSeaFlow', 'tblSeaFlow', 'tblSST_AVHRR_OI_NRT', 'tblSSS_NRT', 'tblCHL_REP', 'tblPisces_NRT', 'tblPisces_NRT', 'tblPisces_NRT', 'tblPisces_NRT', 'tblWOA_Climatology', 'tblWOA_Climatology', 'tblWOA_Climatology', 'tblWOA_Climatology'], \n",
    "                    targetVars=['synecho_abundance', 'picoeuk_abundance', 'prochloro_abundance', 'sst', 'sss', 'chl', 'NO3', 'Fe', 'O2', 'PO4', 'density_WOA_clim', 'nitrate_WOA_clim', 'phosphate_WOA_clim', 'silicate_WOA_clim'], \n",
    "                    depth1 = 0,\n",
    "                    depth2 = 5,\n",
    "                    temporalTolerance=[0, 0, 0, 1, 1, 4, 4, 4, 4, 4, 0, 0, 0, 0], \n",
    "                    latTolerance=[0.1, 0.1, 0.1, 0.25, 0.25, 0.25, 0.5, 0.5, 0.5, 0.5, 0.5, 0.5, 0.5, 0.5], \n",
    "                    lonTolerance=[0.1,0.1, 0.1, 0.25, 0.25, 0.25, 0.5, 0.5, 0.5, 0.5, 0.5, 0.5, 0.5, 0.5], \n",
    "                    depthTolerance=5,\n",
    "                    method='spearman', \n",
    "                    exportDataFlag=False, \n",
    "                    show=True\n",
    "                 )"
   ]
  },
  {
   "cell_type": "markdown",
   "metadata": {},
   "source": [
    "<br>\n",
    "<br>\n",
    "<br>\n",
    "<br>\n",
    "<br>\n",
    "<br>\n",
    "<h1> Analysis (deepC) </h1>\n",
    "<br>\n",
    "<br>\n",
    "<br>\n",
    "<br>\n",
    "<br>\n",
    "<br>\n"
   ]
  },
  {
   "cell_type": "code",
   "execution_count": null,
   "metadata": {
    "scrolled": false
   },
   "outputs": [],
   "source": [
    "\n",
    "import pandas as pd\n",
    "from pycmap.clean import Clean\n",
    "\n",
    "\n",
    "cruises = ['Gradients_1', 'Gradients_2']\n",
    "cruises = ['meso_scope', 'diel']\n",
    "df = pd.DataFrame({})\n",
    "for cruise in cruises:\n",
    "    print('')\n",
    "    print('****************')\n",
    "    print('Preparing %s cruise...' % cruise)\n",
    "    print('****************')\n",
    "    data = api.along_track(\n",
    "                          cruise=cruise,     \n",
    "                          tables=['tblSeaFlow', 'tblSeaFlow', 'tblSeaFlow', 'tblSST_AVHRR_OI_NRT', 'tblSSS_NRT', 'tblCHL_REP', 'tblPisces_NRT', 'tblPisces_NRT', 'tblPisces_NRT', 'tblPisces_NRT', 'tblWOA_Climatology', 'tblWOA_Climatology', 'tblWOA_Climatology', 'tblWOA_Climatology'], \n",
    "                          variables=['synecho_abundance', 'picoeuk_abundance', 'prochloro_abundance', 'sst', 'sss', 'chl', 'NO3', 'Fe', 'O2', 'PO4', 'density_WOA_clim', 'nitrate_WOA_clim', 'phosphate_WOA_clim', 'silicate_WOA_clim'], \n",
    "                          depth1 = 0,\n",
    "                          depth2 = 5,\n",
    "                          temporalTolerance=[0, 0, 0, 1, 1, 4, 4, 4, 4, 4, 0, 0, 0, 0], \n",
    "                          latTolerance=[0.1, 0.1, 0.1, 0.25, 0.25, 0.25, 0.5, 0.5, 0.5, 0.5, 0.5, 0.5, 0.5, 0.5], \n",
    "                          lonTolerance=[0.1,0.1, 0.1, 0.25, 0.25, 0.25, 0.5, 0.5, 0.5, 0.5, 0.5, 0.5, 0.5, 0.5], \n",
    "                          depthTolerance=5\n",
    "                          )\n",
    "\n",
    "    if len(df) < 1:\n",
    "        df = data\n",
    "    else:\n",
    "        df = pd.concat([df, data], ignore_index=True)"
   ]
  },
  {
   "cell_type": "code",
   "execution_count": null,
   "metadata": {},
   "outputs": [],
   "source": [
    "df = Clean(df).remove_nan_time_std()"
   ]
  },
  {
   "cell_type": "code",
   "execution_count": null,
   "metadata": {
    "scrolled": false
   },
   "outputs": [],
   "source": [
    "from pycmap.supervised import RandomForest\n",
    "\n",
    "model = RandomForest(df, 'synecho_abundance', max_features='auto', test_size=0.2)\n",
    "model.learn()\n",
    "model.plot_feature_importance()\n",
    "model.report()"
   ]
  },
  {
   "cell_type": "code",
   "execution_count": null,
   "metadata": {},
   "outputs": [],
   "source": [
    "from pycmap.supervised import RandomForest\n",
    "\n",
    "model = RandomForest(df, 'picoeuk_abundance', max_features='sqrt')\n",
    "model.learn()\n",
    "model.plot_feature_importance()\n",
    "model.report()"
   ]
  },
  {
   "cell_type": "code",
   "execution_count": null,
   "metadata": {},
   "outputs": [],
   "source": [
    "from pycmap.supervised import RandomForest\n",
    "\n",
    "model = RandomForest(df, 'prochloro_abundance')\n",
    "model.learn()\n",
    "model.plot_feature_importance()\n",
    "model.report()"
   ]
  },
  {
   "cell_type": "code",
   "execution_count": null,
   "metadata": {},
   "outputs": [],
   "source": [
    "from pycmap.annotatedHeatmap import AnnotatedHeatmap\n",
    "\n",
    "corr = df.corr(method='spearman')\n",
    "go = AnnotatedHeatmap().graph_obj()        \n",
    "go.x = list(corr.columns)\n",
    "go.y = list(corr.columns)\n",
    "go.z = corr.values\n",
    "go.cmap = 'coolwarm' \n",
    "go.vmin = -1\n",
    "go.vmax = 1\n",
    "go.variable = 'SeaFlow'\n",
    "go.xlabel = ''\n",
    "go.ylabel = ''\n",
    "go.width = 700\n",
    "go.height = 700\n",
    "go.render()"
   ]
  },
  {
   "cell_type": "code",
   "execution_count": null,
   "metadata": {},
   "outputs": [],
   "source": []
  },
  {
   "cell_type": "code",
   "execution_count": null,
   "metadata": {},
   "outputs": [],
   "source": []
  },
  {
   "cell_type": "code",
   "execution_count": null,
   "metadata": {},
   "outputs": [],
   "source": []
  },
  {
   "cell_type": "code",
   "execution_count": null,
   "metadata": {},
   "outputs": [],
   "source": []
  },
  {
   "cell_type": "code",
   "execution_count": null,
   "metadata": {},
   "outputs": [],
   "source": [
    "from pycmap.supervised import ExtraTrees\n",
    "\n",
    "model = ExtraTrees(df, 'synecho_abundance')\n",
    "model.learn()\n",
    "model.plot_feature_importance()\n",
    "model.report()"
   ]
  },
  {
   "cell_type": "code",
   "execution_count": null,
   "metadata": {},
   "outputs": [],
   "source": [
    "from pycmap.supervised import ExtraTrees\n",
    "\n",
    "model = ExtraTrees(df, 'picoeuk_abundance')\n",
    "model.learn()\n",
    "model.plot_feature_importance()\n",
    "model.report()"
   ]
  },
  {
   "cell_type": "code",
   "execution_count": null,
   "metadata": {},
   "outputs": [],
   "source": [
    "\n",
    "from pycmap.supervised import ExtraTrees\n",
    "\n",
    "model = ExtraTrees(df, 'prochloro_abundance')\n",
    "model.learn()\n",
    "model.plot_feature_importance()\n",
    "model.report()"
   ]
  },
  {
   "cell_type": "code",
   "execution_count": null,
   "metadata": {},
   "outputs": [],
   "source": [
    "from pycmap.supervised import GradientBoost\n",
    "\n",
    "model = GradientBoost(df, 'synecho_abundance')\n",
    "model.learn()\n",
    "\n",
    "model.report()"
   ]
  },
  {
   "cell_type": "code",
   "execution_count": null,
   "metadata": {},
   "outputs": [],
   "source": []
  },
  {
   "cell_type": "code",
   "execution_count": null,
   "metadata": {},
   "outputs": [],
   "source": [
    "api.head('tblSeaFlow')"
   ]
  },
  {
   "cell_type": "code",
   "execution_count": null,
   "metadata": {},
   "outputs": [],
   "source": [
    "api.cruise_by_name('km13')"
   ]
  },
  {
   "cell_type": "code",
   "execution_count": null,
   "metadata": {},
   "outputs": [],
   "source": [
    "api.columns('tblSeaFlow')"
   ]
  },
  {
   "cell_type": "code",
   "execution_count": null,
   "metadata": {},
   "outputs": [],
   "source": []
  }
 ],
 "metadata": {
  "kernelspec": {
   "display_name": "Python 3",
   "language": "python",
   "name": "python3"
  },
  "language_info": {
   "codemirror_mode": {
    "name": "ipython",
    "version": 3
   },
   "file_extension": ".py",
   "mimetype": "text/x-python",
   "name": "python",
   "nbconvert_exporter": "python",
   "pygments_lexer": "ipython3",
   "version": "3.7.1"
  }
 },
 "nbformat": 4,
 "nbformat_minor": 2
}
