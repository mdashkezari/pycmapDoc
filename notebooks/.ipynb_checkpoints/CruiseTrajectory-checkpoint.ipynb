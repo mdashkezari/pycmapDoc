{
 "cells": [
  {
   "cell_type": "markdown",
   "metadata": {},
   "source": [
    "<!--NAVIGATION-->\n",
    "< [Cruise Spatio-Temporal Bounds](CruiseBounds.ipynb) | [Contents](Index.ipynb) | [XYZ](XYZ.ipynb) >\n",
    "\n",
    "<a href=\"https://colab.research.google.com/github/mdashkezari/pycmapDoc/blob/master/notebooks/CruiseTrajectory.ipynb\"><img align=\"left\" src=\"https://colab.research.google.com/assets/colab-badge.svg\" alt=\"Open in Colab\" title=\"Open and Execute in Google Colaboratory\"></a>"
   ]
  },
  {
   "cell_type": "markdown",
   "metadata": {},
   "source": [
    "## *cruise_trajectory(cruiseName)*\n",
    "\n",
    "Returns a dataframe containing the spatio-temporal bounding box accosiated with the specified cruise. \n",
    "<br />Effectively, this method returns a subset of the outputs returend [cruise_by_name](CruiseByName.ipynb) method."
   ]
  },
  {
   "cell_type": "markdown",
   "metadata": {},
   "source": [
    "> **Parameters:** \n",
    ">> **cruiseName: string**\n",
    ">>  <br />The official cruise name. If applicable, you may also use cruise \"nick name\" ('Diel', 'Gradients_1' ...). <br />A full list of cruise names can be retrieved using [cruise](Cruises.ipynb) method.\n",
    "\n",
    "\n",
    ">**Returns:** \n",
    ">>  Pandas dataframe."
   ]
  },
  {
   "cell_type": "markdown",
   "metadata": {},
   "source": [
    "### Example"
   ]
  },
  {
   "cell_type": "code",
   "execution_count": 6,
   "metadata": {},
   "outputs": [],
   "source": [
    "import pycmap\n",
    "\n",
    "api = pycmap.API(token='<YOUR_API_KEY>')\n",
    "api.cruise_by_name('KOK1606')\n",
    "\n",
    "# alternatively, you may pass cruise nickname, if applicable\n",
    "# below, \"meso_scope\" is a nickname, the official name is \"KM1709\"\n",
    "# api.cruise_by_name('meso_scope')      "
   ]
  }
 ],
 "metadata": {
  "kernelspec": {
   "display_name": "Python 3",
   "language": "python",
   "name": "python3"
  },
  "language_info": {
   "codemirror_mode": {
    "name": "ipython",
    "version": 3
   },
   "file_extension": ".py",
   "mimetype": "text/x-python",
   "name": "python",
   "nbconvert_exporter": "python",
   "pygments_lexer": "ipython3",
   "version": "3.7.1"
  }
 },
 "nbformat": 4,
 "nbformat_minor": 2
}
