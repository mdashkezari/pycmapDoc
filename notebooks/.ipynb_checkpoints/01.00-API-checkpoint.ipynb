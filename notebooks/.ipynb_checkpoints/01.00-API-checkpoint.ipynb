{
 "cells": [
  {
   "cell_type": "markdown",
   "metadata": {},
   "source": [
    "<!--NAVIGATION-->\n",
    "< [Preface](00.00-Preface.ipynb) | [Contents](Index.ipynb) | [Catalog](01.01-Catalog.ipynb) >\n",
    "\n",
    "<a href=\"https://colab.research.google.com/github/mdashkezari/pycmapDoc/blob/master/notebooks/01.00-API.ipynb\"><img align=\"left\" src=\"https://colab.research.google.com/assets/colab-badge.svg\" alt=\"Open in Colab\" title=\"Open and Execute in Google Colaboratory\"></a>"
   ]
  },
  {
   "cell_type": "markdown",
   "metadata": {},
   "source": [
    "# API\n",
    "\n",
    "To retrieve data, we need to create an instance of the system's API and pass the API key. It is no necessary to pass the API key every time you run a code locally, because it will be stored locally. The API class has other optional parameters to adjust its behavior. All parameters can be updated persistently at any point in the code."
   ]
  },
  {
   "cell_type": "markdown",
   "metadata": {},
   "source": [
    "\n",
    "> `class pycmap.API(token=<API KEY>, baseURL='https://simonscmap.com', headers=None, vizEngine='plotly', exportDir='./export/', > exportFormat='.csv', figureDir='./figure/')`\n",
    "\n"
   ]
  },
  {
   "cell_type": "markdown",
   "metadata": {},
   "source": [
    "> **Parameters:** \n",
    ">> **token: string, required**\n",
    ">>  <br />access token (API Key) required to make client requests. You may get an API key here: https://simonscmap.com\n",
    ">> <br />\n",
    ">> <br />**baseURL: string, optional, default: 'https://simonscmap.com'**\n",
    ">>  <br />root endpoint of Simons CMAP API.\n",
    ">> <br />\n",
    ">> <br />**headers: dict, optional, default: None**\n",
    ">>  <br />additional headers to add to the client requests.\n",
    ">> <br />\n",
    ">> <br />**vizEngine: string, optional, default: 'plotly'**\n",
    ">>  <br />data visualization library used to render the graphs. The other option for visualization library is 'bokeh'. Notice some of the graphs (such as correlation matrix) are only suported by plotly. \n",
    ">> <br />\n",
    ">> <br />**exportDir: string, optional, default: './export/'**\n",
    ">>  <br />path to local directory where the exported data are stored.\n",
    ">> <br />\n",
    ">> <br />**exportFormat: string, optional, default: '.csv'**\n",
    ">>  <br />file format of the exported files. Currently, only csv format is supported."
   ]
  },
  {
   "cell_type": "markdown",
   "metadata": {},
   "source": [
    "## Example"
   ]
  },
  {
   "cell_type": "code",
   "execution_count": 6,
   "metadata": {},
   "outputs": [],
   "source": [
    "import pycmap\n",
    "\n",
    "api = pycmap.API(token='<YOUR_API_KEY>', vizEngine='plotly')\n"
   ]
  }
 ],
 "metadata": {
  "kernelspec": {
   "display_name": "Python 3",
   "language": "python",
   "name": "python3"
  },
  "language_info": {
   "codemirror_mode": {
    "name": "ipython",
    "version": 3
   },
   "file_extension": ".py",
   "mimetype": "text/x-python",
   "name": "python",
   "nbconvert_exporter": "python",
   "pygments_lexer": "ipython3",
   "version": "3.7.1"
  }
 },
 "nbformat": 4,
 "nbformat_minor": 2
}
