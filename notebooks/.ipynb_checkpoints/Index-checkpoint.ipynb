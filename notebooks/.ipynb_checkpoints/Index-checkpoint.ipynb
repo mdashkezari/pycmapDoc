{
 "cells": [
  {
   "cell_type": "markdown",
   "metadata": {},
   "source": [
    "![Book Cover](figures/CMAP.png)\n",
    "*Mohammad Dehghani Ashkezari <mdehghan@uw.edu>* \n",
    "\n",
    "*Raphael Hagen*\n",
    "\n",
    "*Mike Denholtz*\n",
    "\n",
    "*Ginger Armbrust*"
   ]
  },
  {
   "cell_type": "markdown",
   "metadata": {},
   "source": [
    "## Table of Contents\n",
    "\n",
    "### [Preface](Preface.ipynb)\n",
    "\n",
    "### [Installation](Installation.ipynb)\n",
    "\n",
    "### [1. Data Retrieval (API)](API.ipynb)\n",
    "- [Query](Query.ipynb)\n",
    "- [Catalog](Catalog.ipynb)\n",
    "- [MetaData](MetaData.ipynb)\n",
    "- [Dataset Columns](Columns.ipynb)\n",
    "- [Dataset Head](Head.ipynb)\n",
    "- [Variable Long Name](LongName.ipynb)\n",
    "- [Variable Unit](Unit.ipynb)\n",
    "- [If Column Exists](HasField.ipynb)\n",
    "- [Is Gridded Product](Grid.ipynb)\n",
    "- [Is Climatology Product](Climatology.ipynb)\n",
    "- [List of Cruises](Cruises.ipynb)\n",
    "- [Cruise Details by Name](CruiseByName.ipynb)\n",
    "- [Cruise Spatio-Temporal Bounds](CruiseBounds.ipynb)\n",
    "- [Cruise Trajectory](CruiseTrajectory.ipynb)\n",
    "- [Data Subset: Generic Space-Time Cut](SpaceTime.ipynb)\n",
    "- [Data Subset: TimeSeries](TimeSeries.ipynb)\n",
    "- [Data Subset: Depth Profile](DepthProfile.ipynb)\n",
    "- [Match (colocalize) Datasets](Match.ipynb)\n",
    "- [Match (colocalize) Cruise Track with Datasets](MatchCruise.ipynb)\n",
    "\n",
    "\n",
    "### [2. Data Visualization](Viz.ipynb)\n",
    "- [Histogram Plot](Viz_Histogram.ipynb)\n",
    "- [TimeSeries Plot](Viz_TimeSeries.ipynb)\n",
    "- [Regional Map, Contour Plot, 3D Surface Plot](Viz_RegionalMap.ipynb)\n",
    "- [Section Map, Section Contour](Viz_Section.ipynb)\n",
    "- [Depth Profile](Viz_DepthProfile.ipynb)\n",
    "- [Cruise Track Plot](Viz_CruiseTrack.ipynb)\n",
    "- [Correlation Matrix](Viz_CorrelationMatri.ipynb)\n",
    "- [Correlation Matrix Along Cruise Track](Viz_CruiseCorrelationMatri.ipynb)\n",
    "- [Video](Viz_Video.ipynb)\n",
    "\n"
   ]
  }
 ],
 "metadata": {
  "anaconda-cloud": {},
  "kernelspec": {
   "display_name": "Python 3",
   "language": "python",
   "name": "python3"
  },
  "language_info": {
   "codemirror_mode": {
    "name": "ipython",
    "version": 3
   },
   "file_extension": ".py",
   "mimetype": "text/x-python",
   "name": "python",
   "nbconvert_exporter": "python",
   "pygments_lexer": "ipython3",
   "version": "3.7.1"
  }
 },
 "nbformat": 4,
 "nbformat_minor": 1
}
