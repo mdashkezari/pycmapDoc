{
 "cells": [
  {
   "cell_type": "markdown",
   "metadata": {},
   "source": [
    "<!--NAVIGATION-->\n",
    "< [Match (colocalize) Datasets](Match.ipynb) | [Contents](Index.ipynb) | [Match (colocalize) Datasets Along Cruise Track](MatchCruise.ipynb) >\n",
    "\n",
    "<a href=\"https://colab.research.google.com/github/mdashkezari/pycmapDoc/blob/master/notebooks/Match.ipynb\"><img align=\"left\" src=\"https://colab.research.google.com/assets/colab-badge.svg\" alt=\"Open in Colab\" title=\"Open and Execute in Google Colaboratory\"></a>"
   ]
  },
  {
   "cell_type": "markdown",
   "metadata": {},
   "source": [
    "## *along_track(cruise, targetTables, targetVars, depth1, depth2, temporalTolerance, latTolerance, lonTolerance, depthTolerance)*\n",
    "\n",
    "This method colocalizes a cruise trajectory with the specified target variables. The matching results rely on the spatio-temporal tolerance parameters because these parameters set the matching boundaries between the cruise trajectory and target datasets. Please note that the number of matching entries for each target variable might vary depending on the temporal and spatial resolutions of the target variable. In principle, if the cruise trajectory is fully covered by the target variable's spatio-temporal range, there should always be matching results if the tolerance parameters are larger than half of their corresponding spatial/temporal resolutions. Please explore the [catalog](Catalog.ipynb) to find appropriate target variables to colocalize with the desired cruise. \n",
    "\n",
    "<br />This method returns a dataframe containing the cruise trajectory joined with the target variable(s).\n"
   ]
  },
  {
   "cell_type": "markdown",
   "metadata": {},
   "source": [
    "> **Parameters:** \n",
    ">> **cruise: string**\n",
    ">>  <br />The official cruise name. If applicable, you may also use cruise \"nickname\" ('Diel', 'Gradients_1' ...). <br />A full list of cruise names can be retrieved using [cruise](Cruises.ipynb) method.\n",
    ">> <br />\n",
    ">> <br />**targetTables: list of string**\n",
    ">>  <br />Table names of the target datasets to be matched with the cruise trajectory. Notice cruise trajectory can be matched with multiple target datasets.\n",
    ">> <br />\n",
    ">> <br />**targetVars: list of string**\n",
    ">>  <br />Variable short names to be matched with the cruise trajectory.\n",
    ">> <br />\n",
    ">> <br />**depth1: float**\n",
    ">>  <br />Start depth [m]. This parameter sets the lower bound of the depth cut on the traget datasets. 'depth1' and 'depth2' allow matching a cruise trajectory (which is at the surface, hopefully!) with traget varaiables at lower depth. Note depth is a positive number (depth is 0 at surface and grows towards ocean floor).\n",
    ">> <br />\n",
    ">> <br />**depth2: float**\n",
    ">>  <br />End depth [m]. This parameter sets the upper bound of the depth cut on the traget datasets. Note depth is a positive number (depth is 0 at surface and grows towards ocean floor).\n",
    ">> <br />\n",
    ">> <br />**temporalTolerance: list of int**\n",
    ">> <br />Temporal tolerance values between the cruise trajectory and target datasets. The size and order of values in this list should match those of targetTables. If only a single integer value is given, that would be applied to all target datasets. This parameter is in day units except when the target variable represents monthly climatology data in which case it is in month units. Notice fractional values are not supported in the current version.\n",
    ">> <br />\n",
    ">> <br />**latTolerance: list of float or int**\n",
    ">> <br />Spatial tolerance values in meridional direction [deg] between the cruise trajectory and target datasets. The size and order of values in this list should match those of targetTables. If only a single float value is given, that would be applied to all target datasets. A \"safe\" value for this parameter can be slightly larger than the half of the traget variable's spatial resolution.\n",
    ">> <br />\n",
    ">> <br />**lonTolerance: list of float or int**\n",
    ">> <br />Spatial tolerance values in zonal direction [deg] between the cruise trajectory and target datasets. The size and order of values in this list should match those of targetTables. If only a single float value is given, that would be applied to all target datasets. A \"safe\" value for this parameter can be slightly larger than the half of the traget variable's spatial resolution.\n",
    ">> <br />\n",
    ">> <br />**depthTolerance: list of float or int**\n",
    ">> <br />Spatial tolerance values in vertical direction [m] between the cruise trajectory and target datasets. The size and order of values in this list should match those of targetTables. If only a single float value is given, that would be applied to all target datasets. \n",
    "\n",
    ">**Returns:** \n",
    ">>  Pandas dataframe."
   ]
  },
  {
   "cell_type": "markdown",
   "metadata": {},
   "source": [
    "### Example 1\n",
    "\n",
    "This example demonstrates how to colocalize the \"Diel\" cruise (official name: KM1513) with 2 target variables (lines 8-9):<br />\n",
    "\n",
    "* 'synecho_abundance' from underway [seaflow dataset](https://cmap.readthedocs.io/en/latest/catalog/datasets/SeaFlow.html#seaflow)\n",
    "* 'NO3' from [Pisces model](https://cmap.readthedocs.io/en/latest/catalog/datasets/Pisces.html#pisces)\n",
    "\n",
    "The last few lines of this snippet plots the colocalized synecho_abundance versus NO3 concentration.\n",
    "\n",
    "<br />**Tip1:**<br /> \n",
    "The official name of this cruise is 'KM1513' and one can use the official name, instead (line 7). \n",
    "\n",
    "\n",
    "<br />**Tip2:**<br /> \n",
    "The temporalTolerance parameter is set to [0, 4] (line 12). This means:\n",
    "* &#177;0 day temporal tolerance when matching with 'synecho_abundance' (exact date-time matching)\n",
    "* &#177;4 day temporal tolerance when matching with 'NO3' (Pisces is a weekly averaged dataset)\n",
    "\n",
    "<br />**Tip3:**<br /> \n",
    "The latTolerance and lonTolerance parameters are set to [0, 0.25] (line 13-14). This means:\n",
    "* &#177;0 degree spatial tolerances (in meridional and zonal directions) when matching with 'MIT9312PCR_Chisholm' (exact lat/lon matching)\n",
    "* &#177;0.5 degrees spatial tolerances (in meridional and zonal directions) when matching with 'phosphate_WOA_clim'  (this dataset has a 1 degree spatial resolution)\n",
    "* &#177;0.25 degrees spatial tolerances (in meridional and zonal directions) when matching with 'chl'. This dataset has 0.25 degree spatial resolution which means one may reduce the spatial tolerance for this target dataset down to 0.25/2 = 0.125 degrees.\n",
    "\n",
    "<br />**Tip4:**<br /> \n",
    "The depthTolerance parameter is set to [0, 5, 0] (line 20). This means:\n",
    "* &#177;0 meters vertical tolerances when matching with 'MIT9312PCR_Chisholm' (exact depth matching)\n",
    "* &#177;5 meters vertical tolerances when matching with 'phosphate_WOA_clim' (note that this dataset, similar to model outputs, does not have uniform depth levels)"
   ]
  },
  {
   "cell_type": "code",
   "execution_count": null,
   "metadata": {},
   "outputs": [],
   "source": [
    "%matplotlib inline\n",
    "import matplotlib.pyplot as plt\n",
    "import pycmap\n",
    "\n",
    "api = pycmap.API(token='<YOUR_API_KEY>')\n",
    "df = api.along_track(\n",
    "                    cruise='diel', \n",
    "                    targetTables=['tblSeaFlow', 'tblPisces_NRT'],\n",
    "                    targetVars=['synecho_abundance', 'NO3'],\n",
    "                    depth1=0, \n",
    "                    depth2=5, \n",
    "                    temporalTolerance=[0, 4],\n",
    "                    latTolerance=[0, 0.25],\n",
    "                    lonTolerance=[0, 0.25],\n",
    "                    depthTolerance=[5, 5]\n",
    "                    )\n",
    "\n",
    "\n",
    "plt.plot(df['NO3'], df['synecho_abundance'], '.')\n",
    "plt.ylabel('synecho_abundance' + api.get_unit('tblSeaFlow', 'synecho_abundance'))\n",
    "plt.xlabel('NO3' + api.get_unit('tblPisces_NRT', 'NO3'))\n",
    "plt.show()"
   ]
  },
  {
   "cell_type": "markdown",
   "metadata": {},
   "source": [
    "<br /><br />\n",
    "\n",
    "\n",
    "### Example 2\n",
    "\n",
    "The source variable in this example is particulate pseudo cobalamin ('Me_PseudoCobalamin_Particulate_pM' see lines 5-6) measured by [Ingalls lab](https://sites.google.com/view/anitra-ingalls) during the KM1315 cruise (see [dataset page](https://cmap.readthedocs.io/en/latest/catalog/datasets/cobalamines.html#cobalamins) for more details). This variable is colocalized with one target variabele, 'picoprokaryote' concentration, from [Darwin model](http://darwinproject.mit.edu/) (lines 7-8). The colocalized data, then is visualized. please review the above Example 1, since the mentioned tips apply to this example too.\n",
    "\n",
    "\n",
    "<br />**Tip1:**<br /> \n",
    "The employed Darwin model outputs in this example is a 3-day averaged dataset, and therefore &#177;2 day temporal tolerance is used (line 17).\n",
    "\n",
    "<br />**Tip2:**<br /> \n",
    "The employed Darwin model outputs in this example has a 0.5 degree spatial resolution in zonal and meridional directions, and so &#177;0.25 degree spatial tolerance is used (line 18-19).\n",
    "\n",
    "<br />**Tip3:**<br /> \n",
    "Darwin model first depth level is at 5 m (not 0), and so &#177;5 meter vertical tolerance should cover all surface measurements (line 20).\n"
   ]
  },
  {
   "cell_type": "code",
   "execution_count": null,
   "metadata": {},
   "outputs": [],
   "source": [
    "%matplotlib inline\n",
    "import matplotlib.pyplot as plt\n",
    "import pycmap\n",
    "\n",
    "api = pycmap.API(token='<YOUR_API_KEY>')\n",
    "df = api.match(\n",
    "              sourceTable='tblCobalamin', \n",
    "              sourceVar='Me_PseudoCobalamin_Particulate_pM',\n",
    "              targetTables=['tblDarwin_Phytoplankton'],\n",
    "              targetVars=['picoprokaryote'],\n",
    "              dt1='2013-08-11', \n",
    "              dt2='2013-09-05', \n",
    "              lat1=22.5, \n",
    "              lat2=50, \n",
    "              lon1=-159, \n",
    "              lon2=-128, \n",
    "              depth1=0, \n",
    "              depth2=300, \n",
    "              temporalTolerance=[2],\n",
    "              latTolerance=[0.25],\n",
    "              lonTolerance=[0.25],\n",
    "              depthTolerance=[5]\n",
    "              )\n",
    "\n",
    "\n",
    "plt.plot(df['picoprokaryote'], df['Me_PseudoCobalamin_Particulate_pM'], '.')\n",
    "plt.xlabel('picoprokaryote' + api.get_unit('tblDarwin_Phytoplankton', 'picoprokaryote'))\n",
    "plt.ylabel('Me_PseudoCobalamin_Particulate_pM' + api.get_unit('tblCobalamin', 'Me_PseudoCobalamin_Particulate_pM'))\n",
    "plt.show() "
   ]
  }
 ],
 "metadata": {
  "kernelspec": {
   "display_name": "Python 3",
   "language": "python",
   "name": "python3"
  },
  "language_info": {
   "codemirror_mode": {
    "name": "ipython",
    "version": 3
   },
   "file_extension": ".py",
   "mimetype": "text/x-python",
   "name": "python",
   "nbconvert_exporter": "python",
   "pygments_lexer": "ipython3",
   "version": "3.7.1"
  }
 },
 "nbformat": 4,
 "nbformat_minor": 2
}
